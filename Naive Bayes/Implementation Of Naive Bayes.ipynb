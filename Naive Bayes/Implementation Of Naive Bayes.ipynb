{
 "cells": [
  {
   "cell_type": "code",
   "execution_count": 1,
   "metadata": {},
   "outputs": [],
   "source": [
    "import pandas as pd\n",
    "import numpy as np"
   ]
  },
  {
   "cell_type": "code",
   "execution_count": 6,
   "metadata": {},
   "outputs": [
    {
     "data": {
      "text/html": [
       "<div>\n",
       "<style scoped>\n",
       "    .dataframe tbody tr th:only-of-type {\n",
       "        vertical-align: middle;\n",
       "    }\n",
       "\n",
       "    .dataframe tbody tr th {\n",
       "        vertical-align: top;\n",
       "    }\n",
       "\n",
       "    .dataframe thead th {\n",
       "        text-align: right;\n",
       "    }\n",
       "</style>\n",
       "<table border=\"1\" class=\"dataframe\">\n",
       "  <thead>\n",
       "    <tr style=\"text-align: right;\">\n",
       "      <th></th>\n",
       "      <th>day</th>\n",
       "      <th>outlook</th>\n",
       "      <th>temp</th>\n",
       "      <th>humidity</th>\n",
       "      <th>wind</th>\n",
       "      <th>play</th>\n",
       "    </tr>\n",
       "  </thead>\n",
       "  <tbody>\n",
       "    <tr>\n",
       "      <th>0</th>\n",
       "      <td>D1</td>\n",
       "      <td>Sunny</td>\n",
       "      <td>Hot</td>\n",
       "      <td>High</td>\n",
       "      <td>Weak</td>\n",
       "      <td>No</td>\n",
       "    </tr>\n",
       "    <tr>\n",
       "      <th>1</th>\n",
       "      <td>D2</td>\n",
       "      <td>Sunny</td>\n",
       "      <td>Hot</td>\n",
       "      <td>High</td>\n",
       "      <td>Strong</td>\n",
       "      <td>No</td>\n",
       "    </tr>\n",
       "    <tr>\n",
       "      <th>2</th>\n",
       "      <td>D3</td>\n",
       "      <td>Overcast</td>\n",
       "      <td>Hot</td>\n",
       "      <td>High</td>\n",
       "      <td>Weak</td>\n",
       "      <td>Yes</td>\n",
       "    </tr>\n",
       "    <tr>\n",
       "      <th>3</th>\n",
       "      <td>D4</td>\n",
       "      <td>Rain</td>\n",
       "      <td>Mild</td>\n",
       "      <td>High</td>\n",
       "      <td>Weak</td>\n",
       "      <td>Yes</td>\n",
       "    </tr>\n",
       "    <tr>\n",
       "      <th>4</th>\n",
       "      <td>D5</td>\n",
       "      <td>Rain</td>\n",
       "      <td>Cool</td>\n",
       "      <td>Normal</td>\n",
       "      <td>Weak</td>\n",
       "      <td>Yes</td>\n",
       "    </tr>\n",
       "  </tbody>\n",
       "</table>\n",
       "</div>"
      ],
      "text/plain": [
       "  day   outlook  temp humidity    wind play\n",
       "0  D1     Sunny   Hot     High    Weak   No\n",
       "1  D2     Sunny   Hot     High  Strong   No\n",
       "2  D3  Overcast   Hot     High    Weak  Yes\n",
       "3  D4      Rain  Mild     High    Weak  Yes\n",
       "4  D5      Rain  Cool   Normal    Weak  Yes"
      ]
     },
     "execution_count": 6,
     "metadata": {},
     "output_type": "execute_result"
    }
   ],
   "source": [
    "data = pd.read_csv('Data/play_tennis.csv')\n",
    "data.head()"
   ]
  },
  {
   "cell_type": "code",
   "execution_count": 7,
   "metadata": {},
   "outputs": [
    {
     "data": {
      "text/html": [
       "<div>\n",
       "<style scoped>\n",
       "    .dataframe tbody tr th:only-of-type {\n",
       "        vertical-align: middle;\n",
       "    }\n",
       "\n",
       "    .dataframe tbody tr th {\n",
       "        vertical-align: top;\n",
       "    }\n",
       "\n",
       "    .dataframe thead th {\n",
       "        text-align: right;\n",
       "    }\n",
       "</style>\n",
       "<table border=\"1\" class=\"dataframe\">\n",
       "  <thead>\n",
       "    <tr style=\"text-align: right;\">\n",
       "      <th></th>\n",
       "      <th>outlook</th>\n",
       "      <th>temp</th>\n",
       "      <th>humidity</th>\n",
       "      <th>wind</th>\n",
       "      <th>play</th>\n",
       "    </tr>\n",
       "  </thead>\n",
       "  <tbody>\n",
       "    <tr>\n",
       "      <th>0</th>\n",
       "      <td>Sunny</td>\n",
       "      <td>Hot</td>\n",
       "      <td>High</td>\n",
       "      <td>Weak</td>\n",
       "      <td>No</td>\n",
       "    </tr>\n",
       "    <tr>\n",
       "      <th>1</th>\n",
       "      <td>Sunny</td>\n",
       "      <td>Hot</td>\n",
       "      <td>High</td>\n",
       "      <td>Strong</td>\n",
       "      <td>No</td>\n",
       "    </tr>\n",
       "    <tr>\n",
       "      <th>2</th>\n",
       "      <td>Overcast</td>\n",
       "      <td>Hot</td>\n",
       "      <td>High</td>\n",
       "      <td>Weak</td>\n",
       "      <td>Yes</td>\n",
       "    </tr>\n",
       "    <tr>\n",
       "      <th>3</th>\n",
       "      <td>Rain</td>\n",
       "      <td>Mild</td>\n",
       "      <td>High</td>\n",
       "      <td>Weak</td>\n",
       "      <td>Yes</td>\n",
       "    </tr>\n",
       "    <tr>\n",
       "      <th>4</th>\n",
       "      <td>Rain</td>\n",
       "      <td>Cool</td>\n",
       "      <td>Normal</td>\n",
       "      <td>Weak</td>\n",
       "      <td>Yes</td>\n",
       "    </tr>\n",
       "  </tbody>\n",
       "</table>\n",
       "</div>"
      ],
      "text/plain": [
       "    outlook  temp humidity    wind play\n",
       "0     Sunny   Hot     High    Weak   No\n",
       "1     Sunny   Hot     High  Strong   No\n",
       "2  Overcast   Hot     High    Weak  Yes\n",
       "3      Rain  Mild     High    Weak  Yes\n",
       "4      Rain  Cool   Normal    Weak  Yes"
      ]
     },
     "execution_count": 7,
     "metadata": {},
     "output_type": "execute_result"
    }
   ],
   "source": [
    "data.drop(columns=['day'], inplace=True)\n",
    "data.head()"
   ]
  },
  {
   "cell_type": "markdown",
   "metadata": {},
   "source": [
    "## Problem 1\n",
    "\n",
    "#### Given:\n",
    "outlook = Sunny, temp = Hot, humidity = High, Wind = Weak\n",
    "\n",
    "#### Predict:\n",
    "Play or No Play ?"
   ]
  },
  {
   "cell_type": "markdown",
   "metadata": {},
   "source": [
    "## Solution\n",
    "\n",
    "We know using Naive Bayes,\n",
    "\n",
    "P(Yes | Sunny, Hot, High, Weak) = P(Sunny|Yes)\\*P(Hot|Yes)\\*P(High|Yes)\\*P(Weak|Yes)\\*P(Yes)\n",
    "\n",
    "P(No | Sunny, Hot, High, Weak) = P(Sunny|No)\\*P(Hot|No)\\*P(High|No)\\*P(Weak|No)\\*P(No)\n",
    "\n",
    "Compare and decide using the maximum a posteriori rule"
   ]
  },
  {
   "cell_type": "markdown",
   "metadata": {},
   "source": [
    "## Problem 2\n",
    "\n",
    "#### Given:\n",
    "outlook = Overcast, temp = Cool, humidity = Normal, Wind = Weak\n",
    "\n",
    "#### Predict:\n",
    "Play or No Play ?"
   ]
  },
  {
   "cell_type": "markdown",
   "metadata": {},
   "source": [
    "## Solution\n",
    "\n",
    "We know using Naive Bayes,\n",
    "\n",
    "P(Yes | Overcast, Cool, Normal, Weak) = P(Overcast|Yes)\\*P(Cool|Yes)\\*P(Normal|Yes)\\*P(Weak|Yes)\\*P(Yes)\n",
    "\n",
    "P(No | Overcast, Cool, Normal, Weak) = P(Overcast|No)\\*P(Cool|No)\\*P(Normal|No)\\*P(Weak|No)\\*P(No)\n",
    "\n",
    "Compare and decide using the maximum a posteriori rule"
   ]
  },
  {
   "cell_type": "markdown",
   "metadata": {},
   "source": [
    "# How algorithm works:\n",
    "\n",
    "All machine algorithm works in two phase:-\n",
    "    \n",
    "1. Training:\n",
    "\n",
    "    1. In training phase naive bayes creates Lookup Table (Dictionary): All Probabilities are stored.\n",
    "\n",
    "\n",
    "2. Testing"
   ]
  },
  {
   "cell_type": "code",
   "execution_count": 21,
   "metadata": {},
   "outputs": [],
   "source": [
    "# Calculate all possible probabilities:"
   ]
  },
  {
   "cell_type": "code",
   "execution_count": 22,
   "metadata": {},
   "outputs": [
    {
     "name": "stdout",
     "output_type": "stream",
     "text": [
      "Total =  14\n",
      "No. of times play =  9\n",
      "No. of times no play =  5\n"
     ]
    }
   ],
   "source": [
    "total = data.shape[0]\n",
    "yes = data['play'].value_counts()[0]\n",
    "no = data['play'].value_counts()[1]\n",
    "print(\"Total = \", total)\n",
    "print(\"No. of times play = \", yes)\n",
    "print(\"No. of times no play = \", no)"
   ]
  },
  {
   "cell_type": "code",
   "execution_count": 23,
   "metadata": {},
   "outputs": [
    {
     "name": "stdout",
     "output_type": "stream",
     "text": [
      "Probability For Play =  0.6428571428571429\n",
      "Probability For No Play =  0.35714285714285715\n"
     ]
    }
   ],
   "source": [
    "# Probability for yes and no\n",
    "p_yes = yes/total\n",
    "p_no = no/total\n",
    "\n",
    "print(\"Probability For Play = \", p_yes)\n",
    "print(\"Probability For No Play = \", p_no)"
   ]
  },
  {
   "cell_type": "code",
   "execution_count": 28,
   "metadata": {},
   "outputs": [
    {
     "data": {
      "text/html": [
       "<div>\n",
       "<style scoped>\n",
       "    .dataframe tbody tr th:only-of-type {\n",
       "        vertical-align: middle;\n",
       "    }\n",
       "\n",
       "    .dataframe tbody tr th {\n",
       "        vertical-align: top;\n",
       "    }\n",
       "\n",
       "    .dataframe thead th {\n",
       "        text-align: right;\n",
       "    }\n",
       "</style>\n",
       "<table border=\"1\" class=\"dataframe\">\n",
       "  <thead>\n",
       "    <tr style=\"text-align: right;\">\n",
       "      <th>play</th>\n",
       "      <th>No</th>\n",
       "      <th>Yes</th>\n",
       "    </tr>\n",
       "    <tr>\n",
       "      <th>outlook</th>\n",
       "      <th></th>\n",
       "      <th></th>\n",
       "    </tr>\n",
       "  </thead>\n",
       "  <tbody>\n",
       "    <tr>\n",
       "      <th>Overcast</th>\n",
       "      <td>0</td>\n",
       "      <td>4</td>\n",
       "    </tr>\n",
       "    <tr>\n",
       "      <th>Rain</th>\n",
       "      <td>2</td>\n",
       "      <td>3</td>\n",
       "    </tr>\n",
       "    <tr>\n",
       "      <th>Sunny</th>\n",
       "      <td>3</td>\n",
       "      <td>2</td>\n",
       "    </tr>\n",
       "  </tbody>\n",
       "</table>\n",
       "</div>"
      ],
      "text/plain": [
       "play      No  Yes\n",
       "outlook          \n",
       "Overcast   0    4\n",
       "Rain       2    3\n",
       "Sunny      3    2"
      ]
     },
     "execution_count": 28,
     "metadata": {},
     "output_type": "execute_result"
    }
   ],
   "source": [
    "# For Outlook Column\n",
    "pd.crosstab(data['outlook'], data['play'])"
   ]
  },
  {
   "cell_type": "code",
   "execution_count": 27,
   "metadata": {},
   "outputs": [
    {
     "name": "stdout",
     "output_type": "stream",
     "text": [
      "P(Overcast|No) = 0\n",
      "P(Rain|No) = 0.4\n",
      "P(Sunny|No) = 0.6\n",
      "P(Overcast|Yes) = 0.4444444444444444\n",
      "P(Rain|Yes) = 0.3333333333333333\n",
      "P(Sunny|Yes) = 0.2222222222222222\n"
     ]
    }
   ],
   "source": [
    "p_overcast_no = 0\n",
    "p_rain_no = 2/5\n",
    "p_sunny_no = 3/5\n",
    "\n",
    "p_overcast_yes = 4/9\n",
    "p_rain_yes = 3/9\n",
    "p_sunny_yes = 2/9\n",
    "\n",
    "print(\"P(Overcast|No) =\", p_overcast_no) \n",
    "print(\"P(Rain|No) =\", p_rain_no) \n",
    "print(\"P(Sunny|No) =\", p_sunny_no)\n",
    "print(\"P(Overcast|Yes) =\", p_overcast_yes) \n",
    "print(\"P(Rain|Yes) =\", p_rain_yes) \n",
    "print(\"P(Sunny|Yes) =\", p_sunny_yes)"
   ]
  },
  {
   "cell_type": "code",
   "execution_count": 29,
   "metadata": {},
   "outputs": [
    {
     "data": {
      "text/html": [
       "<div>\n",
       "<style scoped>\n",
       "    .dataframe tbody tr th:only-of-type {\n",
       "        vertical-align: middle;\n",
       "    }\n",
       "\n",
       "    .dataframe tbody tr th {\n",
       "        vertical-align: top;\n",
       "    }\n",
       "\n",
       "    .dataframe thead th {\n",
       "        text-align: right;\n",
       "    }\n",
       "</style>\n",
       "<table border=\"1\" class=\"dataframe\">\n",
       "  <thead>\n",
       "    <tr style=\"text-align: right;\">\n",
       "      <th>play</th>\n",
       "      <th>No</th>\n",
       "      <th>Yes</th>\n",
       "    </tr>\n",
       "    <tr>\n",
       "      <th>temp</th>\n",
       "      <th></th>\n",
       "      <th></th>\n",
       "    </tr>\n",
       "  </thead>\n",
       "  <tbody>\n",
       "    <tr>\n",
       "      <th>Cool</th>\n",
       "      <td>1</td>\n",
       "      <td>3</td>\n",
       "    </tr>\n",
       "    <tr>\n",
       "      <th>Hot</th>\n",
       "      <td>2</td>\n",
       "      <td>2</td>\n",
       "    </tr>\n",
       "    <tr>\n",
       "      <th>Mild</th>\n",
       "      <td>2</td>\n",
       "      <td>4</td>\n",
       "    </tr>\n",
       "  </tbody>\n",
       "</table>\n",
       "</div>"
      ],
      "text/plain": [
       "play  No  Yes\n",
       "temp         \n",
       "Cool   1    3\n",
       "Hot    2    2\n",
       "Mild   2    4"
      ]
     },
     "execution_count": 29,
     "metadata": {},
     "output_type": "execute_result"
    }
   ],
   "source": [
    "# For Temperature Column\n",
    "pd.crosstab(data['temp'], data['play'])"
   ]
  },
  {
   "cell_type": "code",
   "execution_count": 32,
   "metadata": {},
   "outputs": [
    {
     "name": "stdout",
     "output_type": "stream",
     "text": [
      "P(Cool|No) = 0.2\n",
      "P(Hot|No) = 0.4\n",
      "P(Mild|No) = 0.4\n",
      "P(Cool|Yes) = 0.3333333333333333\n",
      "P(Hot|Yes) = 0.2222222222222222\n",
      "P(Mild|Yes) = 0.4444444444444444\n"
     ]
    }
   ],
   "source": [
    "p_cool_no = 1/5\n",
    "p_hot_no = 2/5\n",
    "p_mild_no = 2/5\n",
    "\n",
    "p_cool_yes = 3/9\n",
    "p_hot_yes = 2/9\n",
    "p_mild_yes = 4/9\n",
    "\n",
    "print(\"P(Cool|No) =\", p_cool_no)\n",
    "print(\"P(Hot|No) =\", p_hot_no)\n",
    "print(\"P(Mild|No) =\", p_mild_no)\n",
    "print(\"P(Cool|Yes) =\", p_cool_yes)\n",
    "print(\"P(Hot|Yes) =\", p_hot_yes)\n",
    "print(\"P(Mild|Yes) =\", p_mild_yes)"
   ]
  },
  {
   "cell_type": "code",
   "execution_count": 33,
   "metadata": {},
   "outputs": [
    {
     "data": {
      "text/html": [
       "<div>\n",
       "<style scoped>\n",
       "    .dataframe tbody tr th:only-of-type {\n",
       "        vertical-align: middle;\n",
       "    }\n",
       "\n",
       "    .dataframe tbody tr th {\n",
       "        vertical-align: top;\n",
       "    }\n",
       "\n",
       "    .dataframe thead th {\n",
       "        text-align: right;\n",
       "    }\n",
       "</style>\n",
       "<table border=\"1\" class=\"dataframe\">\n",
       "  <thead>\n",
       "    <tr style=\"text-align: right;\">\n",
       "      <th>play</th>\n",
       "      <th>No</th>\n",
       "      <th>Yes</th>\n",
       "    </tr>\n",
       "    <tr>\n",
       "      <th>humidity</th>\n",
       "      <th></th>\n",
       "      <th></th>\n",
       "    </tr>\n",
       "  </thead>\n",
       "  <tbody>\n",
       "    <tr>\n",
       "      <th>High</th>\n",
       "      <td>4</td>\n",
       "      <td>3</td>\n",
       "    </tr>\n",
       "    <tr>\n",
       "      <th>Normal</th>\n",
       "      <td>1</td>\n",
       "      <td>6</td>\n",
       "    </tr>\n",
       "  </tbody>\n",
       "</table>\n",
       "</div>"
      ],
      "text/plain": [
       "play      No  Yes\n",
       "humidity         \n",
       "High       4    3\n",
       "Normal     1    6"
      ]
     },
     "execution_count": 33,
     "metadata": {},
     "output_type": "execute_result"
    }
   ],
   "source": [
    "# For Humidity Column\n",
    "pd.crosstab(data['humidity'], data['play'])"
   ]
  },
  {
   "cell_type": "code",
   "execution_count": 37,
   "metadata": {},
   "outputs": [
    {
     "name": "stdout",
     "output_type": "stream",
     "text": [
      "P(High|No) = 0.8\n",
      "P(Normal|No) = 0.2\n",
      "P(High|Yes) = 0.3333333333333333\n",
      "P(Normal|Yes) = 0.6666666666666666\n"
     ]
    }
   ],
   "source": [
    "p_high_no = 4/5\n",
    "p_normal_no = 1/5\n",
    "\n",
    "p_high_yes = 3/9\n",
    "p_normal_yes = 6/9\n",
    "\n",
    "print(\"P(High|No) =\", p_high_no)\n",
    "print(\"P(Normal|No) =\", p_normal_no)\n",
    "\n",
    "print(\"P(High|Yes) =\", p_high_yes)\n",
    "print(\"P(Normal|Yes) =\", p_normal_yes)"
   ]
  },
  {
   "cell_type": "code",
   "execution_count": 38,
   "metadata": {},
   "outputs": [
    {
     "data": {
      "text/html": [
       "<div>\n",
       "<style scoped>\n",
       "    .dataframe tbody tr th:only-of-type {\n",
       "        vertical-align: middle;\n",
       "    }\n",
       "\n",
       "    .dataframe tbody tr th {\n",
       "        vertical-align: top;\n",
       "    }\n",
       "\n",
       "    .dataframe thead th {\n",
       "        text-align: right;\n",
       "    }\n",
       "</style>\n",
       "<table border=\"1\" class=\"dataframe\">\n",
       "  <thead>\n",
       "    <tr style=\"text-align: right;\">\n",
       "      <th>play</th>\n",
       "      <th>No</th>\n",
       "      <th>Yes</th>\n",
       "    </tr>\n",
       "    <tr>\n",
       "      <th>wind</th>\n",
       "      <th></th>\n",
       "      <th></th>\n",
       "    </tr>\n",
       "  </thead>\n",
       "  <tbody>\n",
       "    <tr>\n",
       "      <th>Strong</th>\n",
       "      <td>3</td>\n",
       "      <td>3</td>\n",
       "    </tr>\n",
       "    <tr>\n",
       "      <th>Weak</th>\n",
       "      <td>2</td>\n",
       "      <td>6</td>\n",
       "    </tr>\n",
       "  </tbody>\n",
       "</table>\n",
       "</div>"
      ],
      "text/plain": [
       "play    No  Yes\n",
       "wind           \n",
       "Strong   3    3\n",
       "Weak     2    6"
      ]
     },
     "execution_count": 38,
     "metadata": {},
     "output_type": "execute_result"
    }
   ],
   "source": [
    "# For Wind Column\n",
    "pd.crosstab(data['wind'], data['play'])"
   ]
  },
  {
   "cell_type": "code",
   "execution_count": 41,
   "metadata": {},
   "outputs": [
    {
     "name": "stdout",
     "output_type": "stream",
     "text": [
      "P(Strong|No) = 0.6\n",
      "P(Weak|No) = 0.4\n",
      "P(Strong|Yes) = 0.3333333333333333\n",
      "P(Weak|Yes) = 0.6666666666666666\n"
     ]
    }
   ],
   "source": [
    "p_strong_no = 3/5\n",
    "p_weak_no = 2/5\n",
    "\n",
    "p_strong_yes = 3/9\n",
    "p_weak_yes = 6/9\n",
    "\n",
    "print(\"P(Strong|No) =\", p_strong_no)\n",
    "print(\"P(Weak|No) =\", p_weak_no)\n",
    "\n",
    "print(\"P(Strong|Yes) =\", p_strong_yes)\n",
    "print(\"P(Weak|Yes) =\", p_weak_yes)"
   ]
  },
  {
   "cell_type": "markdown",
   "metadata": {},
   "source": [
    "## Solution 1:\n",
    "outlook = Sunny, temp = Hot, humidity = High, Wind = Weak"
   ]
  },
  {
   "cell_type": "code",
   "execution_count": 45,
   "metadata": {},
   "outputs": [
    {
     "name": "stdout",
     "output_type": "stream",
     "text": [
      "P(Yes|Sunny, Hot, High, Weak) = 0.007054673721340387\n",
      "P(No|Sunny, Hot, High, Weak) = 0.02742857142857143\n"
     ]
    }
   ],
   "source": [
    "p_yes_sunny_hot_high_weak = p_sunny_yes * p_hot_yes * p_high_yes * p_weak_yes * p_yes\n",
    "p_no_sunny_hot_high_weak = p_sunny_no * p_hot_no * p_high_no * p_weak_no * p_no\n",
    "\n",
    "print(\"P(Yes|Sunny, Hot, High, Weak) =\", p_yes_sunny_hot_high_weak)\n",
    "print(\"P(No|Sunny, Hot, High, Weak) =\", p_no_sunny_hot_high_weak)"
   ]
  },
  {
   "cell_type": "markdown",
   "metadata": {},
   "source": [
    "### Result:\n",
    "No play since that probability is high."
   ]
  },
  {
   "cell_type": "markdown",
   "metadata": {},
   "source": [
    "# Solution 2:\n",
    "outlook = Overcast, temp = Cool, humidity = Normal, Wind = Weak"
   ]
  },
  {
   "cell_type": "code",
   "execution_count": 49,
   "metadata": {},
   "outputs": [
    {
     "name": "stdout",
     "output_type": "stream",
     "text": [
      "P(Yes|Overcast, Cool, Normal, Weak) = 0.042328042328042326\n",
      "P(No|Overcast, Cool, Normal, Weak) = 0.0\n"
     ]
    }
   ],
   "source": [
    "p_yes_overcast_cool_normal_weak = p_overcast_yes * p_cool_yes * p_normal_yes * p_weak_yes * p_yes\n",
    "p_no_overcast_cool_normal_weak = p_overcast_no * p_cool_no * p_normal_no * p_weak_no * p_no\n",
    "\n",
    "print(\"P(Yes|Overcast, Cool, Normal, Weak) =\", p_yes_overcast_cool_normal_weak)\n",
    "print(\"P(No|Overcast, Cool, Normal, Weak) =\", p_no_overcast_cool_normal_weak)"
   ]
  },
  {
   "cell_type": "markdown",
   "metadata": {},
   "source": [
    "### Result\n",
    "\n",
    "Play since that probability is high."
   ]
  }
 ],
 "metadata": {
  "kernelspec": {
   "display_name": "Python 3",
   "language": "python",
   "name": "python3"
  },
  "language_info": {
   "codemirror_mode": {
    "name": "ipython",
    "version": 3
   },
   "file_extension": ".py",
   "mimetype": "text/x-python",
   "name": "python",
   "nbconvert_exporter": "python",
   "pygments_lexer": "ipython3",
   "version": "3.6.9"
  }
 },
 "nbformat": 4,
 "nbformat_minor": 2
}
