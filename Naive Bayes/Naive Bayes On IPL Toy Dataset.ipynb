{
 "cells": [
  {
   "cell_type": "markdown",
   "metadata": {},
   "source": [
    "# Problem\n",
    "\n",
    "You have to find out whether the team would lose the match or not for the following given input:\n",
    "\n",
    "{\"kkr\", \"chennai\",\"overcast\",\"lost\"}"
   ]
  },
  {
   "cell_type": "code",
   "execution_count": 6,
   "metadata": {},
   "outputs": [],
   "source": [
    "import pandas as pd\n",
    "import numpy as np"
   ]
  },
  {
   "cell_type": "code",
   "execution_count": 5,
   "metadata": {},
   "outputs": [
    {
     "data": {
      "text/html": [
       "<div>\n",
       "<style scoped>\n",
       "    .dataframe tbody tr th:only-of-type {\n",
       "        vertical-align: middle;\n",
       "    }\n",
       "\n",
       "    .dataframe tbody tr th {\n",
       "        vertical-align: top;\n",
       "    }\n",
       "\n",
       "    .dataframe thead th {\n",
       "        text-align: right;\n",
       "    }\n",
       "</style>\n",
       "<table border=\"1\" class=\"dataframe\">\n",
       "  <thead>\n",
       "    <tr style=\"text-align: right;\">\n",
       "      <th></th>\n",
       "      <th>opponent</th>\n",
       "      <th>venue</th>\n",
       "      <th>outlook</th>\n",
       "      <th>toss</th>\n",
       "      <th>result</th>\n",
       "    </tr>\n",
       "  </thead>\n",
       "  <tbody>\n",
       "    <tr>\n",
       "      <th>0</th>\n",
       "      <td>kkr</td>\n",
       "      <td>bangalore</td>\n",
       "      <td>overcast</td>\n",
       "      <td>lost</td>\n",
       "      <td>won</td>\n",
       "    </tr>\n",
       "    <tr>\n",
       "      <th>1</th>\n",
       "      <td>mi</td>\n",
       "      <td>mumbai</td>\n",
       "      <td>sunny</td>\n",
       "      <td>won</td>\n",
       "      <td>won</td>\n",
       "    </tr>\n",
       "    <tr>\n",
       "      <th>2</th>\n",
       "      <td>rcb</td>\n",
       "      <td>mumbai</td>\n",
       "      <td>overcast</td>\n",
       "      <td>won</td>\n",
       "      <td>won</td>\n",
       "    </tr>\n",
       "    <tr>\n",
       "      <th>3</th>\n",
       "      <td>kkr</td>\n",
       "      <td>bangalore</td>\n",
       "      <td>sunny</td>\n",
       "      <td>lost</td>\n",
       "      <td>won</td>\n",
       "    </tr>\n",
       "    <tr>\n",
       "      <th>4</th>\n",
       "      <td>kkr</td>\n",
       "      <td>bangalore</td>\n",
       "      <td>sunny</td>\n",
       "      <td>won</td>\n",
       "      <td>won</td>\n",
       "    </tr>\n",
       "  </tbody>\n",
       "</table>\n",
       "</div>"
      ],
      "text/plain": [
       "  opponent      venue   outlook  toss result\n",
       "0      kkr  bangalore  overcast  lost    won\n",
       "1       mi     mumbai     sunny   won    won\n",
       "2      rcb     mumbai  overcast   won    won\n",
       "3      kkr  bangalore     sunny  lost    won\n",
       "4      kkr  bangalore     sunny   won    won"
      ]
     },
     "execution_count": 5,
     "metadata": {},
     "output_type": "execute_result"
    }
   ],
   "source": [
    "data = pd.read_csv('Data/toy-toy.csv')\n",
    "data.head()"
   ]
  },
  {
   "cell_type": "markdown",
   "metadata": {},
   "source": [
    "## Solution:\n",
    "\n",
    "We have to find,\n",
    "\n",
    "P(won|kkr, chennai, overcast, toss) = P(kkr|won) \\* P(chennai|won) \\* P(overcast|won) \\* P(toss|won) \\* P(won)\n",
    "\n",
    "P(lost|kkr, chennai, overcast, toss) = P(kkr|lost) \\* P(chennai|lost) \\* P(overcast|lost) \\* P(toss|lost) \\* P(lost)\n",
    "\n",
    "And then compare the result and decide using the maximum a posteriori rule.\n",
    "\n",
    "### Preparing Loop Up Table (Finding All Possible Probabilities):"
   ]
  },
  {
   "cell_type": "code",
   "execution_count": 13,
   "metadata": {},
   "outputs": [],
   "source": [
    "total = data.shape[0]\n",
    "won = data['result'].value_counts()[0]\n",
    "lost = data['result'].value_counts()[1]"
   ]
  },
  {
   "cell_type": "code",
   "execution_count": 15,
   "metadata": {},
   "outputs": [
    {
     "name": "stdout",
     "output_type": "stream",
     "text": [
      "P(won) = 0.68\n",
      "P(lost) = 0.32\n"
     ]
    }
   ],
   "source": [
    "p_won = won/total\n",
    "p_lost = lost/total\n",
    "\n",
    "print(\"P(won) =\", p_won)\n",
    "print(\"P(lost) =\", p_lost)"
   ]
  },
  {
   "cell_type": "code",
   "execution_count": 16,
   "metadata": {},
   "outputs": [
    {
     "data": {
      "text/html": [
       "<div>\n",
       "<style scoped>\n",
       "    .dataframe tbody tr th:only-of-type {\n",
       "        vertical-align: middle;\n",
       "    }\n",
       "\n",
       "    .dataframe tbody tr th {\n",
       "        vertical-align: top;\n",
       "    }\n",
       "\n",
       "    .dataframe thead th {\n",
       "        text-align: right;\n",
       "    }\n",
       "</style>\n",
       "<table border=\"1\" class=\"dataframe\">\n",
       "  <thead>\n",
       "    <tr style=\"text-align: right;\">\n",
       "      <th>result</th>\n",
       "      <th>lost</th>\n",
       "      <th>won</th>\n",
       "    </tr>\n",
       "    <tr>\n",
       "      <th>opponent</th>\n",
       "      <th></th>\n",
       "      <th></th>\n",
       "    </tr>\n",
       "  </thead>\n",
       "  <tbody>\n",
       "    <tr>\n",
       "      <th>kkr</th>\n",
       "      <td>2</td>\n",
       "      <td>8</td>\n",
       "    </tr>\n",
       "    <tr>\n",
       "      <th>mi</th>\n",
       "      <td>3</td>\n",
       "      <td>1</td>\n",
       "    </tr>\n",
       "    <tr>\n",
       "      <th>rcb</th>\n",
       "      <td>3</td>\n",
       "      <td>4</td>\n",
       "    </tr>\n",
       "    <tr>\n",
       "      <th>rr</th>\n",
       "      <td>0</td>\n",
       "      <td>4</td>\n",
       "    </tr>\n",
       "  </tbody>\n",
       "</table>\n",
       "</div>"
      ],
      "text/plain": [
       "result    lost  won\n",
       "opponent           \n",
       "kkr          2    8\n",
       "mi           3    1\n",
       "rcb          3    4\n",
       "rr           0    4"
      ]
     },
     "execution_count": 16,
     "metadata": {},
     "output_type": "execute_result"
    }
   ],
   "source": [
    "# For Opponent Table\n",
    "pd.crosstab(data['opponent'], data['result'])"
   ]
  },
  {
   "cell_type": "code",
   "execution_count": 33,
   "metadata": {},
   "outputs": [
    {
     "name": "stdout",
     "output_type": "stream",
     "text": [
      "P(kkr | lost) = 0.25\n",
      "P(mi | lost) = 0.375\n",
      "P(rcb | lost) = 0.375\n",
      "P(rr | lost) = 0.0\n",
      "\n",
      "P(kkr | won) = 0.47058823529411764\n",
      "P(mi | won) = 0.058823529411764705\n",
      "P(rcb | won) = 0.23529411764705882\n",
      "P(rr | won) = 0.23529411764705882\n"
     ]
    }
   ],
   "source": [
    "p_kkr_lost = 2/lost\n",
    "p_mi_lost = 3/lost\n",
    "p_rcb_lost = 3/lost\n",
    "p_rr_lost = 0/lost\n",
    "\n",
    "p_kkr_won = 8/won\n",
    "p_mi_won = 1/won\n",
    "p_rcb_won = 4/won\n",
    "p_rr_won = 4/won\n",
    "\n",
    "print(\"P(kkr | lost) =\", p_kkr_lost)\n",
    "print(\"P(mi | lost) =\", p_mi_lost)\n",
    "print(\"P(rcb | lost) =\", p_rcb_lost)\n",
    "print(\"P(rr | lost) =\", p_rr_lost)\n",
    "print()\n",
    "print(\"P(kkr | won) =\", p_kkr_won)\n",
    "print(\"P(mi | won) =\", p_mi_won)\n",
    "print(\"P(rcb | won) =\", p_rcb_won)\n",
    "print(\"P(rr | won) =\", p_rr_won)"
   ]
  },
  {
   "cell_type": "code",
   "execution_count": 23,
   "metadata": {},
   "outputs": [
    {
     "data": {
      "text/html": [
       "<div>\n",
       "<style scoped>\n",
       "    .dataframe tbody tr th:only-of-type {\n",
       "        vertical-align: middle;\n",
       "    }\n",
       "\n",
       "    .dataframe tbody tr th {\n",
       "        vertical-align: top;\n",
       "    }\n",
       "\n",
       "    .dataframe thead th {\n",
       "        text-align: right;\n",
       "    }\n",
       "</style>\n",
       "<table border=\"1\" class=\"dataframe\">\n",
       "  <thead>\n",
       "    <tr style=\"text-align: right;\">\n",
       "      <th>result</th>\n",
       "      <th>lost</th>\n",
       "      <th>won</th>\n",
       "    </tr>\n",
       "    <tr>\n",
       "      <th>venue</th>\n",
       "      <th></th>\n",
       "      <th></th>\n",
       "    </tr>\n",
       "  </thead>\n",
       "  <tbody>\n",
       "    <tr>\n",
       "      <th>bangalore</th>\n",
       "      <td>3</td>\n",
       "      <td>8</td>\n",
       "    </tr>\n",
       "    <tr>\n",
       "      <th>chennai</th>\n",
       "      <td>4</td>\n",
       "      <td>6</td>\n",
       "    </tr>\n",
       "    <tr>\n",
       "      <th>mumbai</th>\n",
       "      <td>1</td>\n",
       "      <td>3</td>\n",
       "    </tr>\n",
       "  </tbody>\n",
       "</table>\n",
       "</div>"
      ],
      "text/plain": [
       "result     lost  won\n",
       "venue               \n",
       "bangalore     3    8\n",
       "chennai       4    6\n",
       "mumbai        1    3"
      ]
     },
     "execution_count": 23,
     "metadata": {},
     "output_type": "execute_result"
    }
   ],
   "source": [
    "# For Venue Table\n",
    "pd.crosstab(data['venue'], data['result'])"
   ]
  },
  {
   "cell_type": "code",
   "execution_count": 29,
   "metadata": {},
   "outputs": [
    {
     "name": "stdout",
     "output_type": "stream",
     "text": [
      "P(bangalore | lost) = 0.375\n",
      "P(chennai | lost) = 0.5\n",
      "P(mumbai | lost) = 0.125\n",
      "\n",
      "P(bangalore | won) = 0.47058823529411764\n",
      "P(chennai | won) = 0.35294117647058826\n",
      "P(mumbai | won) = 0.17647058823529413\n"
     ]
    }
   ],
   "source": [
    "p_bangalore_lost = 3/lost\n",
    "p_chennai_lost = 4/lost\n",
    "p_mumbai_lost = 1/lost\n",
    "\n",
    "p_bangalore_won = 8/won\n",
    "p_chennai_won = 6/won\n",
    "p_mumbai_won = 3/won\n",
    "\n",
    "print(\"P(bangalore | lost) =\", p_bangalore_lost)\n",
    "print(\"P(chennai | lost) =\", p_chennai_lost)\n",
    "print(\"P(mumbai | lost) =\", p_mumbai_lost)\n",
    "print()\n",
    "print(\"P(bangalore | won) =\", p_bangalore_won)\n",
    "print(\"P(chennai | won) =\", p_chennai_won)\n",
    "print(\"P(mumbai | won) =\", p_mumbai_won)"
   ]
  },
  {
   "cell_type": "code",
   "execution_count": 28,
   "metadata": {},
   "outputs": [
    {
     "data": {
      "text/html": [
       "<div>\n",
       "<style scoped>\n",
       "    .dataframe tbody tr th:only-of-type {\n",
       "        vertical-align: middle;\n",
       "    }\n",
       "\n",
       "    .dataframe tbody tr th {\n",
       "        vertical-align: top;\n",
       "    }\n",
       "\n",
       "    .dataframe thead th {\n",
       "        text-align: right;\n",
       "    }\n",
       "</style>\n",
       "<table border=\"1\" class=\"dataframe\">\n",
       "  <thead>\n",
       "    <tr style=\"text-align: right;\">\n",
       "      <th>result</th>\n",
       "      <th>lost</th>\n",
       "      <th>won</th>\n",
       "    </tr>\n",
       "    <tr>\n",
       "      <th>outlook</th>\n",
       "      <th></th>\n",
       "      <th></th>\n",
       "    </tr>\n",
       "  </thead>\n",
       "  <tbody>\n",
       "    <tr>\n",
       "      <th>overcast</th>\n",
       "      <td>3</td>\n",
       "      <td>9</td>\n",
       "    </tr>\n",
       "    <tr>\n",
       "      <th>sunny</th>\n",
       "      <td>5</td>\n",
       "      <td>8</td>\n",
       "    </tr>\n",
       "  </tbody>\n",
       "</table>\n",
       "</div>"
      ],
      "text/plain": [
       "result    lost  won\n",
       "outlook            \n",
       "overcast     3    9\n",
       "sunny        5    8"
      ]
     },
     "execution_count": 28,
     "metadata": {},
     "output_type": "execute_result"
    }
   ],
   "source": [
    "# For Outlook column\n",
    "pd.crosstab(data['outlook'], data['result'])"
   ]
  },
  {
   "cell_type": "code",
   "execution_count": 32,
   "metadata": {},
   "outputs": [
    {
     "name": "stdout",
     "output_type": "stream",
     "text": [
      "P(overcast | lost) = 0.375\n",
      "P(sunny | lost) = 0.625\n",
      "\n",
      "P(overcast | won) = 0.5294117647058824\n",
      "P(sunny | won) = 0.47058823529411764\n"
     ]
    }
   ],
   "source": [
    "p_overcast_lost = 3/lost\n",
    "p_sunny_lost = 5/lost\n",
    "\n",
    "p_overcast_won = 9/won\n",
    "p_sunny_won = 8/won\n",
    "\n",
    "print(\"P(overcast | lost) =\", p_overcast_lost)\n",
    "print(\"P(sunny | lost) =\", p_sunny_lost)\n",
    "print()\n",
    "print(\"P(overcast | won) =\", p_overcast_won)\n",
    "print(\"P(sunny | won) =\", p_sunny_won)"
   ]
  },
  {
   "cell_type": "code",
   "execution_count": 34,
   "metadata": {},
   "outputs": [
    {
     "data": {
      "text/html": [
       "<div>\n",
       "<style scoped>\n",
       "    .dataframe tbody tr th:only-of-type {\n",
       "        vertical-align: middle;\n",
       "    }\n",
       "\n",
       "    .dataframe tbody tr th {\n",
       "        vertical-align: top;\n",
       "    }\n",
       "\n",
       "    .dataframe thead th {\n",
       "        text-align: right;\n",
       "    }\n",
       "</style>\n",
       "<table border=\"1\" class=\"dataframe\">\n",
       "  <thead>\n",
       "    <tr style=\"text-align: right;\">\n",
       "      <th>result</th>\n",
       "      <th>lost</th>\n",
       "      <th>won</th>\n",
       "    </tr>\n",
       "    <tr>\n",
       "      <th>toss</th>\n",
       "      <th></th>\n",
       "      <th></th>\n",
       "    </tr>\n",
       "  </thead>\n",
       "  <tbody>\n",
       "    <tr>\n",
       "      <th>lost</th>\n",
       "      <td>0</td>\n",
       "      <td>6</td>\n",
       "    </tr>\n",
       "    <tr>\n",
       "      <th>won</th>\n",
       "      <td>8</td>\n",
       "      <td>11</td>\n",
       "    </tr>\n",
       "  </tbody>\n",
       "</table>\n",
       "</div>"
      ],
      "text/plain": [
       "result  lost  won\n",
       "toss             \n",
       "lost       0    6\n",
       "won        8   11"
      ]
     },
     "execution_count": 34,
     "metadata": {},
     "output_type": "execute_result"
    }
   ],
   "source": [
    "# For toss column:\n",
    "pd.crosstab(data['toss'], data['result'])"
   ]
  },
  {
   "cell_type": "code",
   "execution_count": 35,
   "metadata": {},
   "outputs": [
    {
     "name": "stdout",
     "output_type": "stream",
     "text": [
      "P(tlost | lost) = 0.0\n",
      "P(twon | lost) = 1.0\n",
      "\n",
      "P(tlost | won) = 0.35294117647058826\n",
      "P(twon | won) = 0.6470588235294118\n"
     ]
    }
   ],
   "source": [
    "p_tlost_lost = 0/lost\n",
    "p_twon_lost = 8/lost\n",
    "\n",
    "p_tlost_won = 6/won\n",
    "p_twon_won = 11/won\n",
    "\n",
    "print(\"P(tlost | lost) =\", p_tlost_lost)\n",
    "print(\"P(twon | lost) =\", p_twon_lost)\n",
    "print()\n",
    "print(\"P(tlost | won) =\", p_tlost_won)\n",
    "print(\"P(twon | won) =\", p_twon_won)"
   ]
  },
  {
   "cell_type": "markdown",
   "metadata": {},
   "source": [
    "### Solution:\n",
    "\"kkr\", \"chennai\",\"overcast\",\"lost\""
   ]
  },
  {
   "cell_type": "code",
   "execution_count": 38,
   "metadata": {},
   "outputs": [
    {
     "name": "stdout",
     "output_type": "stream",
     "text": [
      "P(won | kkr, chennai, overcast, tlost) = 0.02110319560350092\n",
      "P(lost | kkr, chennai, overcast, tlost) = 0.0\n"
     ]
    }
   ],
   "source": [
    "p_won_kkr_chennai_overcast_tlost = p_kkr_won * p_chennai_won * p_overcast_won * p_tlost_won * p_won\n",
    "p_lost_kkr_chennai_overcast_tlost = p_kkr_lost * p_chennai_lost * p_overcast_lost * p_tlost_lost * p_lost\n",
    "\n",
    "print(\"P(won | kkr, chennai, overcast, tlost) =\", p_won_kkr_chennai_overcast_tlost)\n",
    "print(\"P(lost | kkr, chennai, overcast, tlost) =\", p_lost_kkr_chennai_overcast_tlost)"
   ]
  },
  {
   "cell_type": "markdown",
   "metadata": {},
   "source": [
    "## Conclusion\n",
    "\n",
    "Since, P(won | kkr, chennai, overcast, tlost) is higher than P(lost | kkr, chennai, overcast, tlost), so winning is favourable based on the given parameters."
   ]
  }
 ],
 "metadata": {
  "kernelspec": {
   "display_name": "Python 3",
   "language": "python",
   "name": "python3"
  },
  "language_info": {
   "codemirror_mode": {
    "name": "ipython",
    "version": 3
   },
   "file_extension": ".py",
   "mimetype": "text/x-python",
   "name": "python",
   "nbconvert_exporter": "python",
   "pygments_lexer": "ipython3",
   "version": "3.6.9"
  }
 },
 "nbformat": 4,
 "nbformat_minor": 2
}
