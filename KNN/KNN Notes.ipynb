{
 "cells": [
  {
   "cell_type": "markdown",
   "metadata": {},
   "source": [
    "# Decision Boundary for Knn\n",
    "### 1. What is Decision Boundary\n",
    "\n",
    "<p>In a classification problem with two or more classes, a decision boundary or decision surface is a hypersurface that partitions the underlying vector space into two or more sets, one for each class. The classifier will classify all the points on one side of the decision boundary as belonging to one class and all those on the other side as belonging to the other class.</p>\n",
    "\n",
    "<img src='https://aws1.discourse-cdn.com/business5/uploads/julialang/original/2X/f/f11eb7f942661dd020c059a3a9718305fd550c41.png'>"
   ]
  },
  {
   "cell_type": "markdown",
   "metadata": {},
   "source": [
    "### Important Points\n",
    "<ol>\n",
    "    <li>We can draw decision boundary for all the classification algorithms including Neural networks</li>\n",
    "    <li>Decision boundary can be both linear(as in the case of SVM) or non-linear(as in the case of Decision tree classifier or Knn) </li>\n",
    "    <li>Decision boundaries are not always clear cut. That is, the transition from one class in the feature space to another is not discontinuous, but gradual. This effect is common in fuzzy logic based classification algorithms, where membership in one class or another is ambiguous.</li>\n",
    "    <li>For higher dimension problems the decision boundary acts as a hyperplane(for linear ones)</li>\n",
    "</ol>"
   ]
  },
  {
   "cell_type": "markdown",
   "metadata": {},
   "source": [
    "## 2. Vornoi Diagram\n",
    "<p>In mathematics, a Voronoi diagram is a partitioning of a plane into regions based on distance to points in a specific subset of the plane.</p>\n",
    "\n",
    "<img src='https://upload.wikimedia.org/wikipedia/commons/thumb/5/54/Euclidean_Voronoi_diagram.svg/220px-Euclidean_Voronoi_diagram.svg.png'>"
   ]
  },
  {
   "cell_type": "markdown",
   "metadata": {},
   "source": [
    "## 3. Steps to plot Decision Boundary for Knn(Assuming 2 input cols)\n",
    "<ol>\n",
    "    <li>Train the classifier on the training set.</li>\n",
    "    <li>Create a uniform grid(with the help of Numpy Meshgrids) of points that densely cover the region of input space containing the training set.</li>\n",
    "    <li>Classify each point on the grid. Store the results in an array A, where Aij contains the predicted class for the point at row i, column j on the grid.</li>\n",
    "    <li>Plot the array as an image, where each pixel corresponds to a grid point and its color represents the predicted class. The decision boundary can be seen as contours where the image changes color.</li>\n",
    "    <li>Finally print out the training data with their respective color on the same contour</li>\n",
    "</ol>"
   ]
  },
  {
   "cell_type": "markdown",
   "metadata": {},
   "source": [
    "### Step 1: Train The Classifier"
   ]
  },
  {
   "cell_type": "code",
   "execution_count": 7,
   "metadata": {},
   "outputs": [],
   "source": [
    "import numpy as np\n",
    "import pandas as pd\n",
    "import matplotlib.pyplot as plt"
   ]
  },
  {
   "cell_type": "code",
   "execution_count": 9,
   "metadata": {},
   "outputs": [
    {
     "data": {
      "text/html": [
       "<div>\n",
       "<style scoped>\n",
       "    .dataframe tbody tr th:only-of-type {\n",
       "        vertical-align: middle;\n",
       "    }\n",
       "\n",
       "    .dataframe tbody tr th {\n",
       "        vertical-align: top;\n",
       "    }\n",
       "\n",
       "    .dataframe thead th {\n",
       "        text-align: right;\n",
       "    }\n",
       "</style>\n",
       "<table border=\"1\" class=\"dataframe\">\n",
       "  <thead>\n",
       "    <tr style=\"text-align: right;\">\n",
       "      <th></th>\n",
       "      <th>User ID</th>\n",
       "      <th>Gender</th>\n",
       "      <th>Age</th>\n",
       "      <th>EstimatedSalary</th>\n",
       "      <th>Purchased</th>\n",
       "    </tr>\n",
       "  </thead>\n",
       "  <tbody>\n",
       "    <tr>\n",
       "      <th>0</th>\n",
       "      <td>15624510</td>\n",
       "      <td>Male</td>\n",
       "      <td>19</td>\n",
       "      <td>19000</td>\n",
       "      <td>0</td>\n",
       "    </tr>\n",
       "    <tr>\n",
       "      <th>1</th>\n",
       "      <td>15810944</td>\n",
       "      <td>Male</td>\n",
       "      <td>35</td>\n",
       "      <td>20000</td>\n",
       "      <td>0</td>\n",
       "    </tr>\n",
       "    <tr>\n",
       "      <th>2</th>\n",
       "      <td>15668575</td>\n",
       "      <td>Female</td>\n",
       "      <td>26</td>\n",
       "      <td>43000</td>\n",
       "      <td>0</td>\n",
       "    </tr>\n",
       "    <tr>\n",
       "      <th>3</th>\n",
       "      <td>15603246</td>\n",
       "      <td>Female</td>\n",
       "      <td>27</td>\n",
       "      <td>57000</td>\n",
       "      <td>0</td>\n",
       "    </tr>\n",
       "    <tr>\n",
       "      <th>4</th>\n",
       "      <td>15804002</td>\n",
       "      <td>Male</td>\n",
       "      <td>19</td>\n",
       "      <td>76000</td>\n",
       "      <td>0</td>\n",
       "    </tr>\n",
       "  </tbody>\n",
       "</table>\n",
       "</div>"
      ],
      "text/plain": [
       "    User ID  Gender  Age  EstimatedSalary  Purchased\n",
       "0  15624510    Male   19            19000          0\n",
       "1  15810944    Male   35            20000          0\n",
       "2  15668575  Female   26            43000          0\n",
       "3  15603246  Female   27            57000          0\n",
       "4  15804002    Male   19            76000          0"
      ]
     },
     "execution_count": 9,
     "metadata": {},
     "output_type": "execute_result"
    }
   ],
   "source": [
    "data=pd.read_csv('Dataset/Social_Network_Ads.csv')\n",
    "data.head()"
   ]
  },
  {
   "cell_type": "code",
   "execution_count": 10,
   "metadata": {},
   "outputs": [],
   "source": [
    "X=data.iloc[:,2:4].values"
   ]
  },
  {
   "cell_type": "code",
   "execution_count": 11,
   "metadata": {},
   "outputs": [
    {
     "data": {
      "text/plain": [
       "(400, 2)"
      ]
     },
     "execution_count": 11,
     "metadata": {},
     "output_type": "execute_result"
    }
   ],
   "source": [
    "X.shape"
   ]
  },
  {
   "cell_type": "code",
   "execution_count": 12,
   "metadata": {},
   "outputs": [],
   "source": [
    "y=data.iloc[:,-1].values"
   ]
  },
  {
   "cell_type": "code",
   "execution_count": 13,
   "metadata": {},
   "outputs": [
    {
     "data": {
      "text/plain": [
       "(400,)"
      ]
     },
     "execution_count": 13,
     "metadata": {},
     "output_type": "execute_result"
    }
   ],
   "source": [
    "y.shape"
   ]
  },
  {
   "cell_type": "code",
   "execution_count": 14,
   "metadata": {},
   "outputs": [],
   "source": [
    "from sklearn.model_selection import train_test_split\n",
    "X_train,X_test,y_train,y_test=train_test_split(X,y,test_size=0.20)"
   ]
  },
  {
   "cell_type": "code",
   "execution_count": 15,
   "metadata": {},
   "outputs": [
    {
     "data": {
      "text/plain": [
       "(320, 2)"
      ]
     },
     "execution_count": 15,
     "metadata": {},
     "output_type": "execute_result"
    }
   ],
   "source": [
    "X_train.shape"
   ]
  },
  {
   "cell_type": "code",
   "execution_count": 16,
   "metadata": {},
   "outputs": [
    {
     "data": {
      "text/plain": [
       "(80, 2)"
      ]
     },
     "execution_count": 16,
     "metadata": {},
     "output_type": "execute_result"
    }
   ],
   "source": [
    "X_test.shape"
   ]
  },
  {
   "cell_type": "code",
   "execution_count": 17,
   "metadata": {},
   "outputs": [],
   "source": [
    "from sklearn.preprocessing import StandardScaler\n",
    "scaler=StandardScaler()"
   ]
  },
  {
   "cell_type": "code",
   "execution_count": 18,
   "metadata": {},
   "outputs": [
    {
     "data": {
      "text/plain": [
       "array([[-0.18604193, -0.43225511],\n",
       "       [-1.8316811 , -1.41262751],\n",
       "       [-0.28284423, -0.25400558],\n",
       "       [ 1.84680646, -1.05612846],\n",
       "       [-1.92848341,  0.51840905],\n",
       "       [-1.05726267,  0.57782555],\n",
       "       [-1.05726267, -1.53146053],\n",
       "       [ 0.4915742 ,  1.29082367],\n",
       "       [ 1.94360877, -1.353211  ],\n",
       "       [ 0.10436498, -0.22429732],\n",
       "       [ 0.29796959, -0.6996294 ],\n",
       "       [-0.08923962,  0.72636683],\n",
       "       [ 1.94360877,  2.24148782],\n",
       "       [ 0.58837651,  2.09294655],\n",
       "       [-0.18604193,  0.19161824],\n",
       "       [-0.96046036,  0.31045126],\n",
       "       [-0.67005345,  0.60753381],\n",
       "       [-1.54127419, -0.16488081],\n",
       "       [-0.18604193, -0.55108813],\n",
       "       [ 0.68517881, -1.08583671],\n",
       "       [-0.08923962,  2.03353004],\n",
       "       [ 0.3947719 ,  0.19161824],\n",
       "       [-0.28284423, -0.22429732],\n",
       "       [-0.96046036, -0.93729544],\n",
       "       [ 0.29796959, -1.14525322],\n",
       "       [ 0.97558572,  2.06323829],\n",
       "       [ 0.87878342,  1.1422824 ],\n",
       "       [-1.25086728, -1.38291926],\n",
       "       [ 0.3947719 , -0.43225511],\n",
       "       [ 1.84680646,  1.58790622],\n",
       "       [-0.57325115,  2.41973735],\n",
       "       [ 0.10436498, -0.78875416],\n",
       "       [-1.05726267, -0.34313034],\n",
       "       [-1.15406497, -1.59087704],\n",
       "       [-1.63807649, -0.01633954],\n",
       "       [ 1.07238803, -1.20466973],\n",
       "       [ 0.20116729,  0.07278522],\n",
       "       [ 2.04041107,  0.57782555],\n",
       "       [ 0.3947719 , -0.13517256],\n",
       "       [-0.76685575,  0.31045126],\n",
       "       [ 0.87878342,  1.32053192],\n",
       "       [-0.28284423, -1.44233577],\n",
       "       [-0.18604193, -1.05612846],\n",
       "       [-0.67005345, -1.59087704],\n",
       "       [ 0.97558572,  0.81549159],\n",
       "       [-0.57325115,  1.43936494],\n",
       "       [ 2.13721338,  0.42928428],\n",
       "       [-1.7348788 ,  0.39957603],\n",
       "       [ 1.55639955, -1.26408624],\n",
       "       [ 0.78198112,  1.43936494],\n",
       "       [ 1.26599264,  1.94440527],\n",
       "       [ 0.29796959, -0.28371383],\n",
       "       [-0.28284423, -0.90758718],\n",
       "       [-0.08923962, -0.46196336],\n",
       "       [ 1.07238803, -0.87787893],\n",
       "       [ 0.78198112, -0.28371383],\n",
       "       [ 0.20116729, -0.1054643 ],\n",
       "       [ 0.97558572,  1.85528051],\n",
       "       [-1.7348788 , -1.353211  ],\n",
       "       [ 1.07238803, -0.1054643 ],\n",
       "       [ 0.29796959, -0.49167162],\n",
       "       [ 0.78198112, -1.353211  ],\n",
       "       [ 0.68517881,  1.85528051],\n",
       "       [-0.08923962, -0.34313034],\n",
       "       [-1.44447189,  0.39957603],\n",
       "       [-0.28284423,  0.57782555],\n",
       "       [ 1.65320185, -0.87787893],\n",
       "       [-1.34766958, -1.08583671],\n",
       "       [-0.28284423,  0.84519985],\n",
       "       [-0.86365806,  2.36032084],\n",
       "       [ 1.07238803,  0.51840905],\n",
       "       [ 0.97558572, -1.14525322],\n",
       "       [ 1.36279494,  1.35024018],\n",
       "       [-1.44447189, -1.20466973],\n",
       "       [-0.28284423, -1.38291926],\n",
       "       [-1.15406497,  0.51840905],\n",
       "       [ 0.29796959,  0.07278522],\n",
       "       [ 0.10436498,  0.07278522],\n",
       "       [ 0.87878342, -0.55108813],\n",
       "       [ 1.36279494,  2.41973735],\n",
       "       [-1.34766958,  0.45899254],\n",
       "       [ 2.13721338,  0.99374112],\n",
       "       [-1.34766958, -0.40254685],\n",
       "       [ 0.97558572,  2.15236306],\n",
       "       [-1.7348788 , -0.96700369],\n",
       "       [ 0.00756268,  0.34015952],\n",
       "       [-0.96046036,  1.61761447],\n",
       "       [ 1.16919033, -1.44233577],\n",
       "       [-0.28284423, -0.1054643 ],\n",
       "       [ 2.04041107,  0.2213265 ],\n",
       "       [ 0.87878342, -1.14525322],\n",
       "       [ 1.16919033, -0.72933765],\n",
       "       [-0.57325115,  0.51840905],\n",
       "       [ 0.10436498,  0.07278522],\n",
       "       [-0.76685575,  1.40965669],\n",
       "       [-1.54127419, -1.50175228],\n",
       "       [ 0.3947719 , -0.1054643 ],\n",
       "       [ 1.36279494,  0.63724206],\n",
       "       [-0.18604193,  1.4690732 ],\n",
       "       [ 0.78198112,  0.81549159],\n",
       "       [-0.18604193, -0.16488081],\n",
       "       [-0.67005345, -1.0264202 ],\n",
       "       [-1.92848341,  0.39957603],\n",
       "       [ 2.04041107,  1.82557225],\n",
       "       [ 0.00756268, -0.22429732],\n",
       "       [ 0.68517881, -1.26408624],\n",
       "       [ 0.3947719 , -0.43225511],\n",
       "       [ 0.20116729, -0.34313034],\n",
       "       [-0.86365806, -0.75904591],\n",
       "       [ 0.00756268, -0.28371383],\n",
       "       [ 0.87878342, -1.0264202 ],\n",
       "       [-0.37964654,  1.29082367],\n",
       "       [-1.92848341, -0.72933765],\n",
       "       [-0.08923962,  2.24148782],\n",
       "       [-0.57325115,  1.97411353],\n",
       "       [-0.08923962,  0.19161824],\n",
       "       [-1.05726267,  0.81549159],\n",
       "       [ 0.29796959,  0.10249348],\n",
       "       [ 0.3947719 ,  0.31045126],\n",
       "       [ 0.3947719 ,  0.34015952],\n",
       "       [-0.67005345,  0.07278522],\n",
       "       [-0.86365806,  0.42928428],\n",
       "       [-0.28284423, -0.28371383],\n",
       "       [ 1.94360877,  0.78578334],\n",
       "       [ 0.78198112, -0.81846242],\n",
       "       [-1.15406497, -0.75904591],\n",
       "       [ 0.97558572, -1.05612846],\n",
       "       [ 1.84680646, -1.26408624],\n",
       "       [-0.08923962,  0.04307697],\n",
       "       [ 0.87878342, -1.29379449],\n",
       "       [-0.08923962, -0.49167162],\n",
       "       [ 0.00756268, -0.52137987],\n",
       "       [-1.8316811 , -1.47204402],\n",
       "       [ 1.84680646, -0.25400558],\n",
       "       [ 0.29796959,  0.10249348],\n",
       "       [ 0.20116729, -0.28371383],\n",
       "       [ 2.13721338,  1.17199065],\n",
       "       [ 0.87878342,  1.08286589],\n",
       "       [-0.86365806, -0.75904591],\n",
       "       [ 0.87878342, -0.58079638],\n",
       "       [-1.7348788 , -0.58079638],\n",
       "       [-0.08923962,  0.34015952],\n",
       "       [-0.47644884,  2.39002909],\n",
       "       [ 2.13721338, -0.78875416],\n",
       "       [ 0.78198112,  0.31045126],\n",
       "       [ 0.3947719 ,  0.63724206],\n",
       "       [-1.05726267,  2.03353004],\n",
       "       [ 1.65320185,  1.67703098],\n",
       "       [-1.25086728,  0.34015952],\n",
       "       [-1.05726267, -0.31342209],\n",
       "       [-0.08923962,  0.16190999],\n",
       "       [-0.18604193, -0.49167162],\n",
       "       [ 1.55639955,  1.05315763],\n",
       "       [-1.15406497,  0.45899254],\n",
       "       [ 0.78198112, -1.08583671],\n",
       "       [ 1.55639955,  0.04307697],\n",
       "       [ 1.36279494,  2.06323829],\n",
       "       [-0.47644884, -0.75904591],\n",
       "       [-0.28284423, -0.64021289],\n",
       "       [ 0.10436498,  1.58790622],\n",
       "       [ 0.3947719 ,  0.04307697],\n",
       "       [-0.76685575,  0.5481173 ],\n",
       "       [ 2.13721338, -1.0264202 ],\n",
       "       [-1.7348788 ,  0.39957603],\n",
       "       [ 0.20116729,  0.10249348],\n",
       "       [-0.86365806, -0.22429732],\n",
       "       [ 0.10436498, -0.28371383],\n",
       "       [-0.76685575, -1.53146053],\n",
       "       [-0.67005345,  1.4690732 ],\n",
       "       [-1.05726267,  0.45899254],\n",
       "       [-1.44447189, -0.07575605],\n",
       "       [-0.57325115, -1.50175228],\n",
       "       [-1.8316811 , -1.29379449],\n",
       "       [ 1.36279494, -1.41262751],\n",
       "       [-0.47644884, -0.81846242],\n",
       "       [ 0.20116729, -0.22429732],\n",
       "       [ 0.58837651, -0.87787893],\n",
       "       [ 0.97558572, -1.17496148],\n",
       "       [-0.96046036,  0.45899254],\n",
       "       [-1.15406497, -0.49167162],\n",
       "       [ 0.3947719 , -0.46196336],\n",
       "       [ 0.68517881, -1.38291926],\n",
       "       [-0.86365806,  0.19161824],\n",
       "       [-0.28284423,  0.13220173],\n",
       "       [-0.76685575, -0.19458907],\n",
       "       [ 0.29796959, -0.16488081],\n",
       "       [-1.05726267, -1.11554497],\n",
       "       [-0.96046036, -0.28371383],\n",
       "       [ 0.10436498,  0.25103475],\n",
       "       [ 0.00756268,  1.32053192],\n",
       "       [-1.15406497, -1.14525322],\n",
       "       [ 0.10436498,  0.31045126],\n",
       "       [-0.76685575, -1.59087704],\n",
       "       [ 0.20116729, -0.25400558],\n",
       "       [-0.28284423, -1.23437798],\n",
       "       [ 2.13721338, -0.78875416],\n",
       "       [-0.18604193,  1.70673924],\n",
       "       [-0.47644884, -0.52137987],\n",
       "       [ 0.29796959,  0.34015952],\n",
       "       [-0.18604193, -0.25400558],\n",
       "       [ 0.29796959,  0.10249348],\n",
       "       [-0.28284423, -1.29379449],\n",
       "       [-1.92848341, -0.01633954],\n",
       "       [-0.28284423,  0.10249348],\n",
       "       [-0.57325115, -1.50175228],\n",
       "       [-0.96046036, -0.28371383],\n",
       "       [ 1.75000416,  1.05315763],\n",
       "       [ 1.94360877, -0.64021289],\n",
       "       [-0.67005345, -0.31342209],\n",
       "       [ 0.00756268, -0.55108813],\n",
       "       [-0.28284423,  2.33061259],\n",
       "       [-1.15406497,  0.34015952],\n",
       "       [ 1.94360877,  0.96403287],\n",
       "       [ 0.97558572,  1.49878145],\n",
       "       [-0.28284423, -0.72933765],\n",
       "       [-1.34766958, -0.40254685],\n",
       "       [-0.96046036,  0.48870079],\n",
       "       [ 1.07238803, -0.96700369],\n",
       "       [-1.63807649,  0.10249348],\n",
       "       [-0.08923962, -0.19458907],\n",
       "       [ 0.00756268,  1.29082367],\n",
       "       [-0.28284423, -0.87787893],\n",
       "       [ 0.10436498,  1.11257414],\n",
       "       [ 0.87878342, -1.353211  ],\n",
       "       [ 0.00756268, -0.40254685],\n",
       "       [ 1.07238803,  0.57782555],\n",
       "       [ 0.10436498,  0.19161824],\n",
       "       [ 0.97558572,  0.63724206],\n",
       "       [-0.96046036, -0.40254685],\n",
       "       [-1.8316811 ,  0.04307697],\n",
       "       [ 0.20116729, -0.34313034],\n",
       "       [ 0.3947719 ,  0.34015952],\n",
       "       [-0.76685575,  0.60753381],\n",
       "       [ 0.78198112,  0.39957603],\n",
       "       [-1.05726267,  0.60753381],\n",
       "       [ 0.10436498,  1.94440527],\n",
       "       [-0.28284423, -1.353211  ],\n",
       "       [ 1.45959725,  0.39957603],\n",
       "       [ 1.75000416, -0.25400558],\n",
       "       [-0.37964654, -1.29379449],\n",
       "       [ 0.97558572,  0.16190999],\n",
       "       [-1.15406497,  0.34015952],\n",
       "       [ 0.29796959,  0.5481173 ],\n",
       "       [-0.18604193,  2.24148782],\n",
       "       [-0.96046036,  0.60753381],\n",
       "       [-0.28284423,  0.07278522],\n",
       "       [ 0.87878342, -0.52137987],\n",
       "       [-0.76685575, -0.58079638],\n",
       "       [-1.34766958, -0.31342209],\n",
       "       [-0.47644884, -0.25400558],\n",
       "       [-0.76685575,  0.34015952],\n",
       "       [ 0.68517881,  0.31045126],\n",
       "       [ 0.4915742 ,  1.795864  ],\n",
       "       [-1.05726267, -0.31342209],\n",
       "       [-1.8316811 ,  0.2213265 ],\n",
       "       [-1.34766958, -1.47204402],\n",
       "       [-0.37964654, -0.75904591],\n",
       "       [ 0.68517881, -1.38291926],\n",
       "       [-0.08923962,  0.07278522],\n",
       "       [ 1.65320185,  1.82557225],\n",
       "       [-0.28284423,  0.19161824],\n",
       "       [-0.37964654,  0.10249348],\n",
       "       [ 0.10436498,  0.81549159],\n",
       "       [ 0.97558572,  1.94440527],\n",
       "       [ 0.00756268, -0.1054643 ],\n",
       "       [ 0.29796959,  0.10249348],\n",
       "       [-0.47644884,  1.32053192],\n",
       "       [ 0.10436498,  1.94440527],\n",
       "       [ 0.3947719 ,  1.17199065],\n",
       "       [-0.96046036, -1.08583671],\n",
       "       [-1.92848341, -0.49167162],\n",
       "       [-1.7348788 ,  0.51840905],\n",
       "       [-0.47644884, -1.20466973],\n",
       "       [-1.15406497, -1.59087704],\n",
       "       [ 1.16919033, -0.96700369],\n",
       "       [-1.44447189, -0.16488081],\n",
       "       [-0.67005345,  0.16190999],\n",
       "       [-1.15406497, -0.99671195],\n",
       "       [ 0.78198112, -1.38291926],\n",
       "       [-0.28284423, -0.34313034],\n",
       "       [-1.05726267, -1.44233577],\n",
       "       [-0.67005345, -0.01633954],\n",
       "       [ 1.45959725, -1.0264202 ],\n",
       "       [-0.67005345, -0.07575605],\n",
       "       [-0.08923962, -1.05612846],\n",
       "       [-0.86365806, -0.64021289],\n",
       "       [ 0.97558572, -0.81846242],\n",
       "       [ 0.10436498,  0.13220173],\n",
       "       [-1.63807649, -1.56116879],\n",
       "       [ 0.3947719 , -0.1054643 ],\n",
       "       [ 0.87878342, -0.75904591],\n",
       "       [-0.47644884,  0.01336871],\n",
       "       [-1.15406497, -1.53146053],\n",
       "       [ 0.78198112,  0.57782555],\n",
       "       [ 0.29796959, -0.52137987],\n",
       "       [ 0.29796959,  0.31045126],\n",
       "       [-0.37964654, -0.75904591],\n",
       "       [ 0.00756268, -0.22429732],\n",
       "       [ 0.00756268, -0.55108813],\n",
       "       [ 1.26599264, -1.353211  ],\n",
       "       [-0.08923962,  2.30090433],\n",
       "       [-0.28284423,  0.31045126],\n",
       "       [-0.28284423, -0.31342209],\n",
       "       [ 0.20116729,  0.19161824],\n",
       "       [ 2.13721338, -0.66992114],\n",
       "       [-0.67005345, -1.50175228],\n",
       "       [-0.96046036,  0.5481173 ],\n",
       "       [ 0.68517881, -0.6996294 ],\n",
       "       [ 1.07238803, -1.20466973],\n",
       "       [-0.08923962,  0.34015952],\n",
       "       [ 1.26599264,  2.30090433],\n",
       "       [ 0.3947719 ,  1.05315763],\n",
       "       [-0.08923962,  0.28074301],\n",
       "       [ 1.55639955,  1.17199065],\n",
       "       [ 0.97558572, -0.99671195],\n",
       "       [-0.86365806,  0.34015952],\n",
       "       [-1.15406497,  1.4690732 ],\n",
       "       [ 1.84680646,  0.16190999],\n",
       "       [-0.28284423,  0.19161824],\n",
       "       [-0.08923962, -0.40254685]])"
      ]
     },
     "execution_count": 18,
     "metadata": {},
     "output_type": "execute_result"
    }
   ],
   "source": [
    "X_train=scaler.fit_transform(X_train)\n",
    "X_train"
   ]
  },
  {
   "cell_type": "code",
   "execution_count": 19,
   "metadata": {},
   "outputs": [
    {
     "data": {
      "text/plain": [
       "array([[-1.15406497,  0.10249348],\n",
       "       [ 1.75000416,  1.91469702],\n",
       "       [ 1.16919033,  0.57782555],\n",
       "       [-1.25086728,  0.31045126],\n",
       "       [-0.28284423, -0.55108813],\n",
       "       [-0.28284423,  1.17199065],\n",
       "       [-0.08923962,  0.10249348],\n",
       "       [ 0.20116729, -0.64021289],\n",
       "       [ 1.07238803,  0.60753381],\n",
       "       [-1.15406497, -1.08583671],\n",
       "       [ 0.97558572, -1.05612846],\n",
       "       [-1.34766958, -1.23437798],\n",
       "       [ 0.10436498, -0.78875416],\n",
       "       [ 1.36279494, -0.90758718],\n",
       "       [ 1.07238803,  2.15236306],\n",
       "       [-1.25086728,  0.5481173 ],\n",
       "       [-1.54127419, -0.40254685],\n",
       "       [-0.28284423, -0.55108813],\n",
       "       [-0.76685575,  1.97411353],\n",
       "       [-1.25086728,  0.63724206],\n",
       "       [ 0.4915742 ,  1.91469702],\n",
       "       [-0.76685575,  1.1422824 ],\n",
       "       [ 0.20116729,  2.18207131],\n",
       "       [-1.34766958,  0.60753381],\n",
       "       [ 0.3947719 ,  2.39002909],\n",
       "       [ 0.20116729,  0.28074301],\n",
       "       [-1.15406497,  0.36986777],\n",
       "       [ 2.04041107, -0.78875416],\n",
       "       [ 0.20116729,  0.19161824],\n",
       "       [-0.28284423, -0.40254685],\n",
       "       [-0.08923962,  0.31045126],\n",
       "       [ 0.29796959, -0.49167162],\n",
       "       [-0.67005345,  0.2213265 ],\n",
       "       [-1.25086728, -1.05612846],\n",
       "       [-1.44447189, -1.44233577],\n",
       "       [ 0.87878342, -0.64021289],\n",
       "       [-1.15406497, -1.56116879],\n",
       "       [ 2.04041107,  0.42928428],\n",
       "       [-1.8316811 , -1.26408624],\n",
       "       [ 0.00756268,  0.07278522],\n",
       "       [ 2.04041107,  2.21177957],\n",
       "       [ 0.78198112, -1.20466973],\n",
       "       [ 0.29796959, -0.25400558],\n",
       "       [-0.86365806,  0.42928428],\n",
       "       [-1.8316811 ,  0.48870079],\n",
       "       [-1.34766958, -1.353211  ],\n",
       "       [ 1.94360877, -0.90758718],\n",
       "       [-0.28284423, -0.46196336],\n",
       "       [-0.47644884, -1.11554497],\n",
       "       [ 1.45959725,  2.21177957],\n",
       "       [-0.57325115,  1.43936494],\n",
       "       [ 1.45959725,  1.05315763],\n",
       "       [ 0.87878342, -1.44233577],\n",
       "       [ 1.45959725,  0.10249348],\n",
       "       [-0.28284423,  0.25103475],\n",
       "       [ 0.00756268,  0.07278522],\n",
       "       [-0.86365806, -1.20466973],\n",
       "       [-1.05726267,  0.63724206],\n",
       "       [ 0.3947719 ,  0.13220173],\n",
       "       [-0.18604193,  0.90461636],\n",
       "       [-0.96046036, -0.72933765],\n",
       "       [-1.63807649,  0.57782555],\n",
       "       [ 0.87878342,  2.24148782],\n",
       "       [-0.57325115,  1.52848971],\n",
       "       [-0.18604193,  1.67703098],\n",
       "       [-0.37964654,  1.37994843],\n",
       "       [-1.54127419, -1.23437798],\n",
       "       [-0.28284423,  0.66695032],\n",
       "       [-0.08923962,  0.25103475],\n",
       "       [-1.05726267, -0.43225511],\n",
       "       [-0.28284423,  0.10249348],\n",
       "       [ 1.07238803,  0.16190999],\n",
       "       [-1.44447189, -0.61050464],\n",
       "       [ 2.04041107, -1.17496148],\n",
       "       [-0.57325115,  0.93432461],\n",
       "       [-1.54127419,  0.36986777],\n",
       "       [ 0.20116729, -0.34313034],\n",
       "       [ 0.78198112,  0.16190999],\n",
       "       [-1.7348788 ,  0.16190999],\n",
       "       [ 0.20116729,  1.1422824 ]])"
      ]
     },
     "execution_count": 19,
     "metadata": {},
     "output_type": "execute_result"
    }
   ],
   "source": [
    "X_test=scaler.transform(X_test)\n",
    "X_test"
   ]
  },
  {
   "cell_type": "code",
   "execution_count": 20,
   "metadata": {},
   "outputs": [
    {
     "data": {
      "text/plain": [
       "17.88854381999832"
      ]
     },
     "execution_count": 20,
     "metadata": {},
     "output_type": "execute_result"
    }
   ],
   "source": [
    "# 1st method\n",
    "np.sqrt(X_train.shape[0])"
   ]
  },
  {
   "cell_type": "code",
   "execution_count": 21,
   "metadata": {},
   "outputs": [],
   "source": [
    "k=17"
   ]
  },
  {
   "cell_type": "code",
   "execution_count": 24,
   "metadata": {},
   "outputs": [],
   "source": [
    "from sklearn.neighbors import KNeighborsClassifier\n",
    "knn=KNeighborsClassifier(n_neighbors=k)"
   ]
  },
  {
   "cell_type": "code",
   "execution_count": 25,
   "metadata": {},
   "outputs": [
    {
     "data": {
      "text/plain": [
       "KNeighborsClassifier(algorithm='auto', leaf_size=30, metric='minkowski',\n",
       "                     metric_params=None, n_jobs=None, n_neighbors=17, p=2,\n",
       "                     weights='uniform')"
      ]
     },
     "execution_count": 25,
     "metadata": {},
     "output_type": "execute_result"
    }
   ],
   "source": [
    "# Train our model\n",
    "knn.fit(X_train,y_train)"
   ]
  },
  {
   "cell_type": "code",
   "execution_count": 26,
   "metadata": {},
   "outputs": [],
   "source": [
    "y_pred=knn.predict(X_test)"
   ]
  },
  {
   "cell_type": "code",
   "execution_count": 27,
   "metadata": {},
   "outputs": [
    {
     "data": {
      "text/plain": [
       "(80,)"
      ]
     },
     "execution_count": 27,
     "metadata": {},
     "output_type": "execute_result"
    }
   ],
   "source": [
    "y_pred.shape"
   ]
  },
  {
   "cell_type": "code",
   "execution_count": 28,
   "metadata": {},
   "outputs": [
    {
     "data": {
      "text/plain": [
       "(80,)"
      ]
     },
     "execution_count": 28,
     "metadata": {},
     "output_type": "execute_result"
    }
   ],
   "source": [
    "y_test.shape"
   ]
  },
  {
   "cell_type": "code",
   "execution_count": 29,
   "metadata": {},
   "outputs": [
    {
     "data": {
      "text/plain": [
       "0.8375"
      ]
     },
     "execution_count": 29,
     "metadata": {},
     "output_type": "execute_result"
    }
   ],
   "source": [
    "from sklearn.metrics import accuracy_score\n",
    "accuracy_score(y_test,y_pred)"
   ]
  },
  {
   "cell_type": "code",
   "execution_count": 30,
   "metadata": {},
   "outputs": [
    {
     "data": {
      "text/plain": [
       "array([[45,  8],\n",
       "       [ 5, 22]])"
      ]
     },
     "execution_count": 30,
     "metadata": {},
     "output_type": "execute_result"
    }
   ],
   "source": [
    "from sklearn.metrics import confusion_matrix\n",
    "confusion_matrix(y_test,y_pred)"
   ]
  },
  {
   "cell_type": "code",
   "execution_count": 31,
   "metadata": {},
   "outputs": [],
   "source": [
    "# Effect of K on Training Error rate and Validation Error rate\n",
    "\n",
    "error_train=[]\n",
    "error_test=[]\n",
    "\n",
    "for i in range(1,26):\n",
    "    knn=KNeighborsClassifier(n_neighbors=i)\n",
    "    knn.fit(X_train,y_train)\n",
    "    x=confusion_matrix(y_train,knn.predict(X_train))\n",
    "    y=confusion_matrix(y_test,knn.predict(X_test))\n",
    "    error_train.append((x[0][1]+x[1][0])/x.sum())\n",
    "    error_test.append((y[0][1]+y[1][0])/y.sum())"
   ]
  },
  {
   "cell_type": "code",
   "execution_count": 32,
   "metadata": {},
   "outputs": [
    {
     "data": {
      "text/plain": [
       "<matplotlib.legend.Legend at 0x7f7b0b5eea58>"
      ]
     },
     "execution_count": 32,
     "metadata": {},
     "output_type": "execute_result"
    },
    {
     "data": {
      "image/png": "[encoded data removed]",
      "text/plain": [
       "<Figure size 432x288 with 1 Axes>"
      ]
     },
     "metadata": {
      "needs_background": "light"
     },
     "output_type": "display_data"
    }
   ],
   "source": [
    "plt.plot(range(1,26),error_train,label='training error rate')\n",
    "plt.plot(range(1,26),error_test,label='test/validation error rate')\n",
    "plt.xlabel('K Value')\n",
    "plt.ylabel('Error')\n",
    "plt.legend()"
   ]
  },
  {
   "cell_type": "code",
   "execution_count": 33,
   "metadata": {},
   "outputs": [
    {
     "data": {
      "text/plain": [
       "KNeighborsClassifier(algorithm='auto', leaf_size=30, metric='minkowski',\n",
       "                     metric_params=None, n_jobs=None, n_neighbors=11, p=2,\n",
       "                     weights='uniform')"
      ]
     },
     "execution_count": 33,
     "metadata": {},
     "output_type": "execute_result"
    }
   ],
   "source": [
    "knn=KNeighborsClassifier(n_neighbors=11)\n",
    "knn.fit(X_train,y_train)"
   ]
  },
  {
   "cell_type": "code",
   "execution_count": 34,
   "metadata": {},
   "outputs": [],
   "source": [
    "y_pred=knn.predict(X_test)"
   ]
  },
  {
   "cell_type": "code",
   "execution_count": 35,
   "metadata": {},
   "outputs": [
    {
     "data": {
      "text/plain": [
       "0.85"
      ]
     },
     "execution_count": 35,
     "metadata": {},
     "output_type": "execute_result"
    }
   ],
   "source": [
    "accuracy_score(y_test,y_pred)"
   ]
  },
  {
   "cell_type": "code",
   "execution_count": 37,
   "metadata": {},
   "outputs": [],
   "source": [
    "def predict_output():\n",
    "    age=int(input(\"Enter the age: \"))\n",
    "    salary=int(input(\"Enter the salary: \"))\n",
    "    \n",
    "    X_new=np.array([[age],[salary]]).reshape(1,2)\n",
    "    X_new=scaler.transform(X_new)\n",
    "    \n",
    "    if knn.predict(X_new)[0]==0:\n",
    "        return \"Will not purchase.\"\n",
    "    else:\n",
    "        return \"Will purchase.\""
   ]
  },
  {
   "cell_type": "code",
   "execution_count": 38,
   "metadata": {},
   "outputs": [
    {
     "name": "stdout",
     "output_type": "stream",
     "text": [
      "Enter the age: 10\n",
      "Enter the salary: 10000\n"
     ]
    },
    {
     "data": {
      "text/plain": [
       "'Will not purchase.'"
      ]
     },
     "execution_count": 38,
     "metadata": {},
     "output_type": "execute_result"
    }
   ],
   "source": [
    "predict_output()"
   ]
  },
  {
   "cell_type": "code",
   "execution_count": 42,
   "metadata": {},
   "outputs": [
    {
     "name": "stdout",
     "output_type": "stream",
     "text": [
      "Enter the age: 40\n",
      "Enter the salary: 100000\n"
     ]
    },
    {
     "data": {
      "text/plain": [
       "'Will purchase.'"
      ]
     },
     "execution_count": 42,
     "metadata": {},
     "output_type": "execute_result"
    }
   ],
   "source": [
    "predict_output()"
   ]
  },
  {
   "cell_type": "markdown",
   "metadata": {},
   "source": [
    "### Step 2: Creating a Meshgrid:"
   ]
  },
  {
   "cell_type": "code",
   "execution_count": 55,
   "metadata": {},
   "outputs": [],
   "source": [
    "x_a = np.arange(start=X_train[:, 0].min()-1, stop=X_train[:, 0].max()+1, step=0.01)\n",
    "x_b = np.arange(start=X_train[:, 1].min()-1, stop=X_train[:, 1].max()+1, step=0.01)"
   ]
  },
  {
   "cell_type": "code",
   "execution_count": 58,
   "metadata": {},
   "outputs": [],
   "source": [
    "XX, YY = np.meshgrid(x_a, x_b)"
   ]
  },
  {
   "cell_type": "markdown",
   "metadata": {},
   "source": [
    "### Step 3: Classifying every point on the meshgrid:"
   ]
  },
  {
   "cell_type": "code",
   "execution_count": 70,
   "metadata": {},
   "outputs": [],
   "source": [
    "x = np.array([XX.ravel(), YY.ravel()]).T\n",
    "labels = knn.predict(x)"
   ]
  },
  {
   "cell_type": "code",
   "execution_count": 72,
   "metadata": {},
   "outputs": [
    {
     "data": {
      "text/plain": [
       "array([0, 0, 0, ..., 1, 1, 1])"
      ]
     },
     "execution_count": 72,
     "metadata": {},
     "output_type": "execute_result"
    }
   ],
   "source": [
    "labels"
   ]
  },
  {
   "cell_type": "markdown",
   "metadata": {},
   "source": [
    "### Step 4: Plotting the array as an image"
   ]
  },
  {
   "cell_type": "code",
   "execution_count": 76,
   "metadata": {},
   "outputs": [
    {
     "data": {
      "text/plain": [
       "<matplotlib.contour.QuadContourSet at 0x7f7b0a360780>"
      ]
     },
     "execution_count": 76,
     "metadata": {},
     "output_type": "execute_result"
    },
    {
     "data": {
      "image/png": "[encoded data removed]",
      "text/plain": [
       "<Figure size 432x288 with 1 Axes>"
      ]
     },
     "metadata": {
      "needs_background": "light"
     },
     "output_type": "display_data"
    }
   ],
   "source": [
    " plt.contourf(XX, YY, labels.reshape(XX.shape))"
   ]
  },
  {
   "cell_type": "markdown",
   "metadata": {},
   "source": [
    "### Step 5: Plotting all the training data on the plot"
   ]
  },
  {
   "cell_type": "code",
   "execution_count": 80,
   "metadata": {},
   "outputs": [
    {
     "data": {
      "text/plain": [
       "<matplotlib.collections.PathCollection at 0x7f7b09c30be0>"
      ]
     },
     "execution_count": 80,
     "metadata": {},
     "output_type": "execute_result"
    },
    {
     "data": {
      "image/png": "[encoded data removed]",
      "text/plain": [
       "<Figure size 432x288 with 1 Axes>"
      ]
     },
     "metadata": {
      "needs_background": "light"
     },
     "output_type": "display_data"
    }
   ],
   "source": [
    "plt.contourf(XX, YY, labels.reshape(XX.shape), alpha=0.1)\n",
    "plt.scatter(X_train[:, 0], X_train[:, 1], c=y_train)"
   ]
  }
 ],
 "metadata": {
  "kernelspec": {
   "display_name": "Python 3",
   "language": "python",
   "name": "python3"
  },
  "language_info": {
   "codemirror_mode": {
    "name": "ipython",
    "version": 3
   },
   "file_extension": ".py",
   "mimetype": "text/x-python",
   "name": "python",
   "nbconvert_exporter": "python",
   "pygments_lexer": "ipython3",
   "version": "3.6.9"
  }
 },
 "nbformat": 4,
 "nbformat_minor": 2
}
