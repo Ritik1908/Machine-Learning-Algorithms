{
 "cells": [
  {
   "cell_type": "markdown",
   "metadata": {},
   "source": [
    "Logistic regression is a classification technique, it is called regression because approach is similar to that of regression we make 2D plot that seperates the region.\n",
    "\n",
    "There are two types of intution:-\n",
    "1. Geometric Intution\n",
    "2. Probabilistic Intitution\n",
    "\n",
    "Assumption (When we can use logistic regression): Data should be linearly seperable. It is mostly used for binary classifier."
   ]
  },
  {
   "cell_type": "markdown",
   "metadata": {},
   "source": [
    "## Geometric Intitution Of Logistic Regression:\n",
    "\n",
    "1. Watch video."
   ]
  }
 ],
 "metadata": {
  "kernelspec": {
   "display_name": "Python 3",
   "language": "python",
   "name": "python3"
  },
  "language_info": {
   "codemirror_mode": {
    "name": "ipython",
    "version": 3
   },
   "file_extension": ".py",
   "mimetype": "text/x-python",
   "name": "python",
   "nbconvert_exporter": "python",
   "pygments_lexer": "ipython3",
   "version": "3.6.9"
  }
 },
 "nbformat": 4,
 "nbformat_minor": 2
}
