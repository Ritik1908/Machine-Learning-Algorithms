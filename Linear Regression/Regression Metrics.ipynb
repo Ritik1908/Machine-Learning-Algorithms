{
 "cells": [
  {
   "cell_type": "markdown",
   "metadata": {},
   "source": [
    "# Regression Metrics\n",
    "\n",
    "These are the 5 regression metrics:\n",
    "    1. Mean Absolute Error (MAE)\n",
    "    2. Mean Squared Error (MSE)\n",
    "    3. Root Mean Squared Error (RMSE)\n",
    "    4. R2 (R Square) [Cofficient of Determination]\n",
    "    5. Adjusted R2 (R Square)"
   ]
  },
  {
   "cell_type": "markdown",
   "metadata": {},
   "source": [
    "# Mean Absolute Error (MAE):\n",
    "\n",
    "MAE is Summation of absolute value of (original y - predicted y)"
   ]
  },
  {
   "cell_type": "markdown",
   "metadata": {},
   "source": [
    "# Mean Absolute Error (MSE):\n",
    "\n",
    "MSE is Summation of squared value of (original y - predicted y)"
   ]
  },
  {
   "cell_type": "markdown",
   "metadata": {},
   "source": [
    "# RMSE:\n",
    "\n",
    "Since dimenion of MSE is squared to dimension of y, we do rmse to bring it back to original dimesion"
   ]
  },
  {
   "cell_type": "markdown",
   "metadata": {},
   "source": [
    "### Which one is preferred when\n",
    "\n",
    "In general we should use all three to judge model but RMSE is preferred over other two,\n",
    "\n",
    "If there are lots of outliers we use MAE."
   ]
  },
  {
   "cell_type": "markdown",
   "metadata": {},
   "source": [
    "# R2 (R Square) [Cofficient of Determination]\n",
    "\n",
    "<img src = 'etc/R-Square.png'>"
   ]
  },
  {
   "cell_type": "markdown",
   "metadata": {},
   "source": [
    "One flaw of R-Square is when input increases it's value increases even where there is no relation between them."
   ]
  },
  {
   "cell_type": "markdown",
   "metadata": {},
   "source": [
    "# Adjusted R2 (R Square):\n",
    "\n",
    "It overcomes the flaw of R-Square Method."
   ]
  },
  {
   "cell_type": "markdown",
   "metadata": {},
   "source": [
    "<img src = 'etc/Adjusted R-Square.png'>"
   ]
  }
 ],
 "metadata": {
  "kernelspec": {
   "display_name": "Python 3",
   "language": "python",
   "name": "python3"
  },
  "language_info": {
   "codemirror_mode": {
    "name": "ipython",
    "version": 3
   },
   "file_extension": ".py",
   "mimetype": "text/x-python",
   "name": "python",
   "nbconvert_exporter": "python",
   "pygments_lexer": "ipython3",
   "version": "3.6.9"
  }
 },
 "nbformat": 4,
 "nbformat_minor": 2
}
