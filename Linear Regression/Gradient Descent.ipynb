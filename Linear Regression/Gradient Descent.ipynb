{
 "cells": [
  {
   "cell_type": "code",
   "execution_count": 58,
   "metadata": {},
   "outputs": [],
   "source": [
    "import pandas as pd\n",
    "import numpy as np\n",
    "import matplotlib.pyplot as plt"
   ]
  },
  {
   "cell_type": "code",
   "execution_count": 59,
   "metadata": {},
   "outputs": [],
   "source": [
    "data = pd.read_csv(\"Dataset/Salary_Data.csv\")"
   ]
  },
  {
   "cell_type": "code",
   "execution_count": 60,
   "metadata": {},
   "outputs": [],
   "source": [
    "x = data.iloc[:,0].tolist()\n",
    "y = data.iloc[:,1].tolist()"
   ]
  },
  {
   "cell_type": "code",
   "execution_count": 61,
   "metadata": {},
   "outputs": [
    {
     "data": {
      "text/plain": [
       "<matplotlib.collections.PathCollection at 0x7f47cb3710b8>"
      ]
     },
     "execution_count": 61,
     "metadata": {},
     "output_type": "execute_result"
    },
    {
     "data": {
      "image/png": "[encoded data removed]",
      "text/plain": [
       "<Figure size 432x288 with 1 Axes>"
      ]
     },
     "metadata": {
      "needs_background": "light"
     },
     "output_type": "display_data"
    }
   ],
   "source": [
    "plt.scatter(x, y)"
   ]
  },
  {
   "cell_type": "code",
   "execution_count": 66,
   "metadata": {},
   "outputs": [],
   "source": [
    "class LinearRegression:\n",
    "    \n",
    "    def __init__ (self):\n",
    "        self.slope = 0\n",
    "        self.intercept = 0\n",
    "        \n",
    "    def step_size(self, X, Y):\n",
    "        step_m = [i*((i*self.slope)+self.intercept-j) for (i, j) in zip(X, Y)]\n",
    "        step_b = [(i*self.slope)+self.intercept-j for (i, j) in zip(X, Y)]\n",
    "        step_m = 2*sum(step_m)\n",
    "        step_b = 2*sum(step_b)\n",
    "        return step_m, step_b\n",
    "    \n",
    "    def fit(self, X, Y, learning_rate = 0.00001, n_iter = 10000):\n",
    "        \n",
    "        step_m, step_b = self.step_size(X, Y)\n",
    "        iterations = 0\n",
    "        while(abs(step_m) > learning_rate or abs(step_b) > learning_rate) or iterations < n_iter:\n",
    "            iterations = iterations + 1\n",
    "            step_m, step_b = self.step_size(X, Y)\n",
    "            self.slope = self.slope - (learning_rate * step_m)\n",
    "            self.intercept = self.intercept - (learning_rate * step_b)\n",
    "        \n",
    "        print(\"Slope:\", self.slope)\n",
    "        print(\"Intercept:\", self.intercept)\n",
    "    \n",
    "    def predict(self, value):\n",
    "        ans = (self.slope*value) + self.intercept\n",
    "        return ans"
   ]
  },
  {
   "cell_type": "code",
   "execution_count": 71,
   "metadata": {},
   "outputs": [],
   "source": [
    "x = data.iloc[:,0].tolist()\n",
    "y = data.iloc[:,1].tolist()"
   ]
  },
  {
   "cell_type": "code",
   "execution_count": 68,
   "metadata": {},
   "outputs": [],
   "source": [
    "model = LinearRegression()"
   ]
  },
  {
   "cell_type": "code",
   "execution_count": 69,
   "metadata": {},
   "outputs": [
    {
     "name": "stdout",
     "output_type": "stream",
     "text": [
      "Slope: 9449.96232157211\n",
      "Intercept: 25792.200197880222\n"
     ]
    }
   ],
   "source": [
    "model.fit(x, y)"
   ]
  },
  {
   "cell_type": "code",
   "execution_count": 70,
   "metadata": {},
   "outputs": [
    {
     "data": {
      "image/png": "[encoded data removed]",
      "text/plain": [
       "<Figure size 432x288 with 1 Axes>"
      ]
     },
     "metadata": {
      "needs_background": "light"
     },
     "output_type": "display_data"
    }
   ],
   "source": [
    "# Visualizing Linear Model\n",
    "plt.scatter(x, y)\n",
    "plt.plot([min(x), max(x)], [model.predict(min(x)), model.predict(max(x))], color='red') # predicted\n",
    "plt.show()"
   ]
  }
 ],
 "metadata": {
  "kernelspec": {
   "display_name": "Python 3",
   "language": "python",
   "name": "python3"
  },
  "language_info": {
   "codemirror_mode": {
    "name": "ipython",
    "version": 3
   },
   "file_extension": ".py",
   "mimetype": "text/x-python",
   "name": "python",
   "nbconvert_exporter": "python",
   "pygments_lexer": "ipython3",
   "version": "3.6.9"
  }
 },
 "nbformat": 4,
 "nbformat_minor": 2
}
